{
 "cells": [
  {
   "cell_type": "code",
   "execution_count": 1,
   "metadata": {},
   "outputs": [],
   "source": [
    "import math\n",
    "import operator"
   ]
  },
  {
   "cell_type": "code",
   "execution_count": 2,
   "metadata": {},
   "outputs": [],
   "source": [
    "def getTop2gram(filename, n):\n",
    "    '''\n",
    "    Hàm trả lại danh sách (list) n 2-gram  có số lần nhiều nhất trong file văn bản filename.\n",
    "    Trong file văn bản filename, mỗi từ phân cách nhau bởi dấu cách, một 2-gram là ghép của 2 từ đi liền nhau trong một dòng,\n",
    "    ví dụ \"a b c d\" sẽ có các 2 gram là 'a b', 'b c' và 'c d'\n",
    "    Danh sách kết quả được sắp xếp giảm dần theo thứ tự từ điển của các 2 gram.\n",
    "    Nếu 2 2-gram có tần số xuất hiện bằng nhau thì ưu tiên 2-gram có thứ tự từ điển lớn hơn \n",
    "    (ví dụ 'd a' > 'c a' vì vậy nếu 'd a' và 'c a' có cùng số lần xuất hiện thì lấy 'd a')\n",
    "    Ví dụ, file văn bản có nội dung như sau: \n",
    "    \"\n",
    "    a b c a a a b c d f d a d a f g s g h f s s a\n",
    "    a g h b c e f g m n j s a r t y y u v z x k l a   \n",
    "    \"\n",
    "    \n",
    "    danh sách các 2-gram cùng số lần xuất hiện sắp xếp theo số lần xuất hiện tăng dần, 2-gram tăng dần theo thứ tự từ điển như sau:\n",
    "    \n",
    "    [('b c', 3), ('s a', 2), ('g h', 2), ('f g', 2), ('d a', 2), ('a b', 2), ('a a', 2), ('z x', 1), \n",
    "    ('y y', 1), ('y u', 1), ('x k', 1), ('v z', 1), ('u v', 1), ('t y', 1), ('s s', 1), ('s g', 1), \n",
    "    ('r t', 1), ('n j', 1), ('m n', 1), ('l a', 1), ('k l', 1), ('j s', 1), ('h f', 1), ('h b', 1), \n",
    "    ('g s', 1), ('g m', 1), ('f s', 1), ('f d', 1), ('e f', 1), ('d f', 1), ('c e', 1), ('c d', 1), \n",
    "    ('c a', 1), ('a r', 1), ('a g', 1), ('a f', 1), ('a d', 1)]\n",
    "    \n",
    "    Như vậy với n = 5, kết quả là\n",
    "    \n",
    "   ['s a', 'g h', 'f g', 'd a', 'b c']\n",
    "    \n",
    "    \n",
    "    Chú ý, file văn bản có nhiều dòng và không có ký tự unicode\n",
    "    Nếu n > số 2gram thì kết quả là toàn bộ danh sách các 2gram.\n",
    "    '''\n",
    "    dt = {}\n",
    "    cnt = 0\n",
    "    for line in open(filename, 'r'):\n",
    "        cnt+=1\n",
    "        inp = line.split()\n",
    "        for i in range(1, len(inp)):\n",
    "            tmp = inp[i-1] + \" \" + inp[i]\n",
    "            if tmp not in dt:\n",
    "                dt[tmp] = 1\n",
    "            else:\n",
    "                dt[tmp] += 1\n",
    "    dt2 = list(dt.items())\n",
    "    dt2.sort(key= operator.itemgetter(1, 0), reverse=True)\n",
    "    dt2 = dt2[:n]\n",
    "    # print(dt2)\n",
    "    ans = [x[0] for x in dt2]\n",
    "    ans.sort(reverse=True)\n",
    "    return ans\n",
    "    pass"
   ]
  }
 ],
 "metadata": {
  "interpreter": {
   "hash": "767d51c1340bd893661ea55ea3124f6de3c7a262a8b4abca0554b478b1e2ff90"
  },
  "kernelspec": {
   "display_name": "Python 3.9.7 64-bit",
   "language": "python",
   "name": "python3"
  },
  "language_info": {
   "codemirror_mode": {
    "name": "ipython",
    "version": 3
   },
   "file_extension": ".py",
   "mimetype": "text/x-python",
   "name": "python",
   "nbconvert_exporter": "python",
   "pygments_lexer": "ipython3",
   "version": "3.9.7"
  },
  "orig_nbformat": 4
 },
 "nbformat": 4,
 "nbformat_minor": 2
}
