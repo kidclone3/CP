{
 "cells": [
  {
   "cell_type": "code",
   "execution_count": 1,
   "metadata": {},
   "outputs": [
    {
     "name": "stdout",
     "output_type": "stream",
     "text": [
      "0.86669921875\n"
     ]
    }
   ],
   "source": [
    "f = lambda x : x**4 + 2*(x**3) - x - 1\n",
    "left = 0\n",
    "right = 10\n",
    "e = 0.001\n",
    "while right - left > e:\n",
    "    mid = (left + right) / 2\n",
    "    if f(left)*f(mid) < 0:\n",
    "        right = mid\n",
    "    else:\n",
    "        left = mid\n",
    "print(left)"
   ]
  }
 ],
 "metadata": {
  "kernelspec": {
   "display_name": "Python 3.10.6 ('venv': venv)",
   "language": "python",
   "name": "python3"
  },
  "language_info": {
   "codemirror_mode": {
    "name": "ipython",
    "version": 3
   },
   "file_extension": ".py",
   "mimetype": "text/x-python",
   "name": "python",
   "nbconvert_exporter": "python",
   "pygments_lexer": "ipython3",
   "version": "3.10.6"
  },
  "orig_nbformat": 4,
  "vscode": {
   "interpreter": {
    "hash": "4c0c4208f4fee799c6c5a1e04391206219e22af1edc4b5dea30046f640e47b43"
   }
  }
 },
 "nbformat": 4,
 "nbformat_minor": 2
}
