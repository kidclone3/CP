{
 "cells": [
  {
   "cell_type": "code",
   "execution_count": 2,
   "metadata": {},
   "outputs": [],
   "source": [
    "# bộ dữ liệu:\n",
    "data = [(0, 7), (2, 11), (3, 28)]"
   ]
  },
  {
   "cell_type": "markdown",
   "metadata": {},
   "source": [
    "Đa thức nội suy của bộ dữ liệu:\n",
    "$f(x) = \\frac{(x-2)(x-3)}{(0-2)(0-3)}*7 + \\frac{(x-0)(x-3)}{(2-0)(2-3)}*11 + \\frac{(x-0)(x-2)}{(3-0)(3-2)}*28$"
   ]
  },
  {
   "cell_type": "code",
   "execution_count": 27,
   "metadata": {},
   "outputs": [],
   "source": [
    "# Hàm nội suy f:\n",
    "from typing import List, Tuple, Any\n",
    "Coordinate = Tuple[int, int]\n",
    "\n",
    "\n",
    "def f(x: Any, data: List[Coordinate]) -> Any:\n",
    "    result = 0\n",
    "    for i1, j1 in data:\n",
    "        ans = 1\n",
    "        for i2, _ in data:\n",
    "            if i1 == i2: \n",
    "                continue\n",
    "            ans *= (x-i2)/(i1-i2)\n",
    "        ans *= j1\n",
    "        result += ans\n",
    "    return result\n",
    "    "
   ]
  },
  {
   "cell_type": "code",
   "execution_count": 29,
   "metadata": {},
   "outputs": [
    {
     "name": "stdout",
     "output_type": "stream",
     "text": [
      "Giá trị y tại điểm x bằng 1 xấp xỉ  4.0\n"
     ]
    }
   ],
   "source": [
    "print(\"Giá trị y tại điểm x bằng 1 xấp xỉ \", f(1, data))"
   ]
  }
 ],
 "metadata": {
  "kernelspec": {
   "display_name": "Python 3.9.7 ('base')",
   "language": "python",
   "name": "python3"
  },
  "language_info": {
   "codemirror_mode": {
    "name": "ipython",
    "version": 3
   },
   "file_extension": ".py",
   "mimetype": "text/x-python",
   "name": "python",
   "nbconvert_exporter": "python",
   "pygments_lexer": "ipython3",
   "version": "3.9.7"
  },
  "orig_nbformat": 4,
  "vscode": {
   "interpreter": {
    "hash": "1c6177a275554534f533b5ca08c733f2162f41df6c8add0bb941ac8c0b713f94"
   }
  }
 },
 "nbformat": 4,
 "nbformat_minor": 2
}
