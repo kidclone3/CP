{
 "cells": [
  {
   "cell_type": "code",
   "execution_count": null,
   "metadata": {},
   "outputs": [],
   "source": [
    "import numpy as np"
   ]
  },
  {
   "cell_type": "code",
   "execution_count": 3,
   "metadata": {},
   "outputs": [],
   "source": [
    "# x^3 + x – 5 = 0"
   ]
  },
  {
   "cell_type": "code",
   "execution_count": 4,
   "metadata": {},
   "outputs": [],
   "source": [
    "f = lambda x : x**3 + x - 5"
   ]
  },
  {
   "cell_type": "code",
   "execution_count": 5,
   "metadata": {},
   "outputs": [],
   "source": [
    "# Vì là đa thức bậc ba, nên sẽ tồn tại f' và f''.\n",
    "f1 = lambda x : 3*x**2 + 1\n",
    "f2 = lambda x : 6*x\n"
   ]
  },
  {
   "cell_type": "code",
   "execution_count": 6,
   "metadata": {},
   "outputs": [],
   "source": [
    "# f2 là hàm tuyến tính, luôn dương trong khoảng (0, +oo) và luôn âm trong khoảng (-oo, 0)\n",
    "# Vậy nên cần xác định khoảng để f1 dương (hoặc âm)."
   ]
  },
  {
   "cell_type": "code",
   "execution_count": 7,
   "metadata": {},
   "outputs": [],
   "source": [
    "# f1 là hàm parabol lõm, có điểm thấp nhất tại x = 0, có giá trị 1\n",
    "# => f1 luôn dương.\n",
    "# => Để f1 và f2 cùng dấu, khoảng được chọn phải > 0."
   ]
  },
  {
   "cell_type": "code",
   "execution_count": 8,
   "metadata": {},
   "outputs": [],
   "source": [
    "# Ta lấy điểm fourier là chính giữa, x0 = 5."
   ]
  },
  {
   "cell_type": "code",
   "execution_count": 9,
   "metadata": {},
   "outputs": [],
   "source": [
    "from matplotlib import pyplot as plt"
   ]
  },
  {
   "cell_type": "code",
   "execution_count": 22,
   "metadata": {},
   "outputs": [],
   "source": [
    "a = 1\n",
    "b = 2\n",
    "x0 = 2\n",
    "e = 0.0001 # sai số.\n",
    "gen = [x0]"
   ]
  },
  {
   "cell_type": "code",
   "execution_count": 23,
   "metadata": {},
   "outputs": [
    {
     "name": "stdout",
     "output_type": "stream",
     "text": [
      "0.38461538461538464\n",
      "0.09409156527118989\n",
      "0.00529662318786525\n"
     ]
    }
   ],
   "source": [
    "while abs(f(x0)/f1(x0)) > e:\n",
    "    # x0 = x1\n",
    "    tmp = f(x0)/f1(x0)\n",
    "    x0 -= tmp\n",
    "    print(tmp)\n",
    "    # print(x0, x1)\n",
    "    gen.append(x0)"
   ]
  },
  {
   "cell_type": "code",
   "execution_count": 27,
   "metadata": {},
   "outputs": [
    {
     "name": "stdout",
     "output_type": "stream",
     "text": [
      "Số bước lặp là:  4\n"
     ]
    }
   ],
   "source": [
    "print(\"Số bước lặp là: \", len(gen))"
   ]
  },
  {
   "cell_type": "code",
   "execution_count": 25,
   "metadata": {},
   "outputs": [],
   "source": [
    "gen2 = np.asarray(gen)"
   ]
  },
  {
   "cell_type": "code",
   "execution_count": 26,
   "metadata": {},
   "outputs": [
    {
     "data": {
      "image/png": "[encoded data removed]",
      "text/plain": [
       "<Figure size 432x288 with 1 Axes>"
      ]
     },
     "metadata": {
      "needs_background": "light"
     },
     "output_type": "display_data"
    }
   ],
   "source": [
    "plt.scatter(x=gen2, y=f(gen2))\n",
    "plt.show()"
   ]
  }
 ],
 "metadata": {
  "kernelspec": {
   "display_name": "Python 3.9.7 ('base')",
   "language": "python",
   "name": "python3"
  },
  "language_info": {
   "codemirror_mode": {
    "name": "ipython",
    "version": 3
   },
   "file_extension": ".py",
   "mimetype": "text/x-python",
   "name": "python",
   "nbconvert_exporter": "python",
   "pygments_lexer": "ipython3",
   "version": "3.9.7"
  },
  "orig_nbformat": 4,
  "vscode": {
   "interpreter": {
    "hash": "1c6177a275554534f533b5ca08c733f2162f41df6c8add0bb941ac8c0b713f94"
   }
  }
 },
 "nbformat": 4,
 "nbformat_minor": 2
}
